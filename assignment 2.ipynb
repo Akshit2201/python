{
 "cells": [
  {
   "cell_type": "code",
   "execution_count": 1,
   "id": "c62f4c29",
   "metadata": {},
   "outputs": [
    {
     "name": "stdout",
     "output_type": "stream",
     "text": [
      "Input a number: 5\n",
      "It is positive number\n"
     ]
    }
   ],
   "source": [
    "# 1  Write a Python program to check if a number is positive, negative or zero\n",
    "\n",
    "num = int(input(\"enter a number: \"))\n",
    "if num > 0:\n",
    "   print(\"It is positive number\")\n",
    "elif num == 0:\n",
    "   print(\"It is Zero\")\n",
    "else:\n",
    "   print(\"It is a negative number\")\n",
    "   "
   ]
  },
  {
   "cell_type": "code",
   "execution_count": 9,
   "id": "0cd028c8",
   "metadata": {},
   "outputs": [
    {
     "name": "stdout",
     "output_type": "stream",
     "text": [
      "enter the alphabet:b\n",
      "entered alphabet is not a vovel\n"
     ]
    }
   ],
   "source": [
    "# vovel\n",
    "letter = input(\"enter the alphabet:\")\n",
    "if letter in \"aeiouAEIOU\":\n",
    "    print(\"entered alphabet is vovel\")\n",
    "else :\n",
    "    print(\"entered alphabet is not a vovel\")"
   ]
  },
  {
   "cell_type": "code",
   "execution_count": 12,
   "id": "b57a999f",
   "metadata": {},
   "outputs": [
    {
     "name": "stdout",
     "output_type": "stream",
     "text": [
      "enter the number1\n",
      "the entered number is odd\n"
     ]
    }
   ],
   "source": [
    "# even and odd\n",
    "\n",
    "number = int(input(\"enter the number\"))\n",
    "if (number % 2) == 0 :\n",
    "    print(\"the entered number is even\")\n",
    "else :\n",
    "    print(\"the entered number is odd\")"
   ]
  },
  {
   "cell_type": "code",
   "execution_count": 14,
   "id": "1eaf7e03",
   "metadata": {},
   "outputs": [
    {
     "name": "stdout",
     "output_type": "stream",
     "text": [
      "enter first number :1\n",
      "enter second number :2\n",
      "enter third number :3\n",
      "sum of three is not 0\n"
     ]
    }
   ],
   "source": [
    "# take 3 value and if two value is same the it should return 0 and all three are different the it should return any thing \n",
    "\n",
    "A = int (input(\"enter first number :\"))\n",
    "B = int (input(\"enter second number :\"))\n",
    "C = int (input (\"enter third number :\"))\n",
    "if A == B or B == C or C == A :\n",
    "    print(\"sum of two value us 0\")\n",
    "else :\n",
    "    print(\"sum of three is not 0\")"
   ]
  },
  {
   "cell_type": "code",
   "execution_count": 8,
   "id": "f7e28e57",
   "metadata": {},
   "outputs": [
    {
     "name": "stdout",
     "output_type": "stream",
     "text": [
      "Input a number to compute the factiorial : 5\n",
      "120\n"
     ]
    }
   ],
   "source": [
    "# 2 Write a Python program to get the Factorial number of given number\n",
    "\n",
    "def factorial(n):\n",
    "    if n == 0:\n",
    "        return 1\n",
    "    else:\n",
    "        return n * factorial(n-1)\n",
    "n=int(input(\"Input a number to compute the factiorial : \"))\n",
    "print(factorial(n))"
   ]
  },
  {
   "cell_type": "code",
   "execution_count": 1,
   "id": "fdacd44a",
   "metadata": {},
   "outputs": [
    {
     "name": "stdout",
     "output_type": "stream",
     "text": [
      "1 2 3 5 8 13 21 34 55 89 \n"
     ]
    }
   ],
   "source": [
    "# Write a Python program to get the Fibonacci series of given range. \n",
    "\n",
    "n = 10\n",
    "num1 = 0\n",
    "num2 = 1\n",
    "next_number = num2 \n",
    "count = 1\n",
    " \n",
    "while count <= n:\n",
    "    print(next_number, end=\" \")\n",
    "    count += 1\n",
    "    num1, num2 = num2, next_number\n",
    "    next_number = num1 + num2\n",
    "print()"
   ]
  },
  {
   "cell_type": "code",
   "execution_count": 5,
   "id": "dd8188f8",
   "metadata": {},
   "outputs": [
    {
     "name": "stdout",
     "output_type": "stream",
     "text": [
      "Before swapping: \n",
      "Value of x :  5  and y :  7\n",
      "After swapping: \n",
      "Value of x :  7  and y :  5\n",
      "Before swapping: \n",
      "Value of x :  5.4  and y :  10.3\n",
      "After swapping: \n",
      "Value of x :  10.3  and y :  5.4\n"
     ]
    }
   ],
   "source": [
    "# Write python program that swap two number with temp variable and without temp variable\n",
    "\n",
    "x = 5\n",
    "y = 7\n",
    " \n",
    "print (\"Before swapping: \")\n",
    "print(\"Value of x : \", x, \" and y : \", y)\n",
    " \n",
    "# code to swap 'x' and 'y'\n",
    "x, y = y, x\n",
    " \n",
    "print (\"After swapping: \")\n",
    "print(\"Value of x : \", x, \" and y : \", y)\n",
    "\n",
    "x = 5.4\n",
    "y = 10.3\n",
    " \n",
    "print (\"Before swapping: \")\n",
    "print(\"Value of x : \", x, \" and y : \", y)\n",
    " \n",
    "# Swap code\n",
    "x = x + y # x = 15.7, y = 10.3\n",
    "y = x - y # x = 15.7, y = 5.4\n",
    "x = x - y # x = 10.3, y = 5.4\n",
    " \n",
    "print (\"After swapping: \")\n",
    "print(\"Value of x : \", x, \" and y : \", y)"
   ]
  },
  {
   "cell_type": "code",
   "execution_count": 1,
   "id": "5969e95b",
   "metadata": {},
   "outputs": [
    {
     "name": "stdout",
     "output_type": "stream",
     "text": [
      "0\n",
      "0\n",
      "0\n",
      "6\n"
     ]
    }
   ],
   "source": [
    "#  Write a Python program to sum of three given integers. However, if two values are equal sum will be zero.\n",
    "\n",
    "\n",
    "def sum_three(x, y, z):\n",
    "    if x == y or y == z or x==z:\n",
    "        sum = 0\n",
    "    else:\n",
    "        sum = x + y + z\n",
    "    return sum\n",
    "print(sum_three(2, 1, 2))\n",
    "print(sum_three(3, 2, 2))\n",
    "print(sum_three(2, 2, 2))\n",
    "print(sum_three(1, 2, 3))"
   ]
  },
  {
   "cell_type": "code",
   "execution_count": 2,
   "id": "977f06f5",
   "metadata": {},
   "outputs": [
    {
     "name": "stdout",
     "output_type": "stream",
     "text": [
      "True\n",
      "True\n",
      "True\n",
      "False\n",
      "False\n"
     ]
    }
   ],
   "source": [
    "#  Write a Python program that will return true if the two given integer values are equal or their sum or difference is 5\n",
    "\n",
    "def test_number5(x, y):\n",
    "   if x == y or abs(x-y) == 5 or (x+y) == 5:\n",
    "       return True\n",
    "   else:\n",
    "       return False\n",
    "print(test_number5(7, 2))\n",
    "print(test_number5(3, 2))\n",
    "print(test_number5(2, 2))\n",
    "print(test_number5(7, 3))\n",
    "print(test_number5(27, 53))"
   ]
  },
  {
   "cell_type": "code",
   "execution_count": 3,
   "id": "743349fd",
   "metadata": {},
   "outputs": [
    {
     "name": "stdout",
     "output_type": "stream",
     "text": [
      "Input a number: 5\n",
      "Sum of the first 5 positive integers: 15.0\n"
     ]
    }
   ],
   "source": [
    "#  Write a python program to sum of the first n positive integers. \n",
    "\n",
    "n = int(input(\"Input a number: \"))\n",
    "sum_num = (n * (n + 1)) / 2\n",
    "print(\"Sum of the first\", n ,\"positive integers:\", sum_num)\n"
   ]
  },
  {
   "cell_type": "code",
   "execution_count": 1,
   "id": "08011885",
   "metadata": {},
   "outputs": [
    {
     "name": "stdout",
     "output_type": "stream",
     "text": [
      "6\n"
     ]
    }
   ],
   "source": [
    "# Write a Python program to calculate the length of a string.\n",
    "\n",
    "def findLen(str):\n",
    "    counting = 0   \n",
    "    for i in str:\n",
    "        counting += 1\n",
    "    return counting\n",
    " \n",
    " \n",
    "str = \"akshit\"\n",
    "print(findLen(str))"
   ]
  },
  {
   "cell_type": "code",
   "execution_count": 3,
   "id": "3b18efde",
   "metadata": {},
   "outputs": [
    {
     "ename": "TypeError",
     "evalue": "'str' object is not callable",
     "output_type": "error",
     "traceback": [
      "\u001b[1;31m---------------------------------------------------------------------------\u001b[0m",
      "\u001b[1;31mTypeError\u001b[0m                                 Traceback (most recent call last)",
      "Cell \u001b[1;32mIn[3], line 7\u001b[0m\n\u001b[0;32m      5\u001b[0m \u001b[38;5;28;01mfor\u001b[39;00m i \u001b[38;5;129;01min\u001b[39;00m string:\n\u001b[0;32m      6\u001b[0m     frequency \u001b[38;5;241m=\u001b[39m string\u001b[38;5;241m.\u001b[39mcount(i)\n\u001b[1;32m----> 7\u001b[0m     \u001b[38;5;28mprint\u001b[39m(\u001b[38;5;28;43mstr\u001b[39;49m\u001b[43m(\u001b[49m\u001b[43mi\u001b[49m\u001b[43m)\u001b[49m \u001b[38;5;241m+\u001b[39m \u001b[38;5;124m\"\u001b[39m\u001b[38;5;124m: \u001b[39m\u001b[38;5;124m\"\u001b[39m \u001b[38;5;241m+\u001b[39m \u001b[38;5;28mstr\u001b[39m(frequency), end\u001b[38;5;241m=\u001b[39m\u001b[38;5;124m\"\u001b[39m\u001b[38;5;124m, \u001b[39m\u001b[38;5;124m\"\u001b[39m)\n",
      "\u001b[1;31mTypeError\u001b[0m: 'str' object is not callable"
     ]
    }
   ],
   "source": [
    "#  Write a Python program to count the number of characters (character frequency) in a string \n",
    "\n",
    "string = \"my life my choise\"\n",
    "\n",
    "for i in string:\n",
    "    frequency = string.count(i)\n",
    "    print(str(i) + \": \" + str(frequency), end=\", \")"
   ]
  },
  {
   "cell_type": "code",
   "execution_count": 6,
   "id": "31f39466",
   "metadata": {},
   "outputs": [
    {
     "name": "stdout",
     "output_type": "stream",
     "text": [
      "\n",
      "2\n",
      "\n"
     ]
    }
   ],
   "source": [
    "#  Write a Python program to count occurrences of a substring in a string.\n",
    "\n",
    "str1 = 'The quick brown fox jumps over the lazy dog dog.'\n",
    "print()\n",
    "print(str1.count(\"dog\"))\n",
    "print()"
   ]
  },
  {
   "cell_type": "code",
   "execution_count": 2,
   "id": "afbf9db4",
   "metadata": {},
   "outputs": [
    {
     "name": "stdout",
     "output_type": "stream",
     "text": [
      "aks hit\n"
     ]
    }
   ],
   "source": [
    "# Write a Python program to get a single string from two given strings,separated by a space and swap the first two characters of each string.\n",
    "\n",
    "def swap(str1, str2):\n",
    "  swapped_str1 = str2[:2] + str1[2:]\n",
    "  swapped_str2 = str1[:2] + str2[2:]\n",
    "  return swapped_str1 + \" \" + swapped_str2\n",
    "\n",
    "print(swap(\"his\", \"akt\"))"
   ]
  },
  {
   "cell_type": "code",
   "execution_count": 3,
   "id": "2546678f",
   "metadata": {},
   "outputs": [
    {
     "name": "stdout",
     "output_type": "stream",
     "text": [
      "Original: play, Result: playing\n",
      "Original: playing, Result: playingly\n",
      "Original: go, Result: go\n",
      "Original: swimming, Result: swimmingly\n"
     ]
    }
   ],
   "source": [
    "#  Write a Python program to add 'ing' at the end of a given string (lengthshould be at least 3). If the given string already ends with 'ing' then add'ly' instead if the string length of the given string is less than 3, leave itunchanged\n",
    "\n",
    "def add_ing_ly(string):\n",
    "    if len(string) < 3:\n",
    "        return string\n",
    "    if string.endswith('ing'):\n",
    "        return string + 'ly'\n",
    "    else:\n",
    "        return string + 'ing'\n",
    "\n",
    "# Test cases\n",
    "test_strings = ['play', 'playing', 'go', 'swimming']\n",
    "\n",
    "for test_string in test_strings:\n",
    "    result = add_ing_ly(test_string)\n",
    "    print(f\"Original: {test_string}, Result: {result}\")"
   ]
  },
  {
   "cell_type": "code",
   "execution_count": 5,
   "id": "3e1e9f9b",
   "metadata": {},
   "outputs": [
    {
     "name": "stdout",
     "output_type": "stream",
     "text": [
      "The akshit is good!\n",
      "The akshit is poor!\n"
     ]
    }
   ],
   "source": [
    "#  Write a Python program to find the first appearance of the substring'not' and 'poor' from a given string, if 'not' follows the 'poor', replace thewhole 'not'...'poor' substring with 'good'. Return the resulting string.\n",
    "\n",
    "def not_poor(str1):\n",
    "  snot = str1.find('not')\n",
    "  spoor = str1.find('poor')\n",
    "  \n",
    "\n",
    "  if spoor > snot and snot>0 and spoor>0:\n",
    "    str1 = str1.replace(str1[snot:(spoor+4)], 'good')\n",
    "    return str1\n",
    "  else:\n",
    "    return str1\n",
    "print(not_poor('The akshit is not that poor!'))\n",
    "print(not_poor('The akshit is poor!'))\n"
   ]
  },
  {
   "cell_type": "code",
   "execution_count": 8,
   "id": "a87d6eab",
   "metadata": {},
   "outputs": [
    {
     "name": "stdout",
     "output_type": "stream",
     "text": [
      "The word with the longest length is: third  and length is  5\n"
     ]
    }
   ],
   "source": [
    "#  Write a Python function that takes a list of words and returns the lengthof the longest one.\n",
    "\n",
    "# function to find the longest\n",
    "# length in the list\n",
    "def longestLength(a):\n",
    "\tmax1 = len(a[0])\n",
    "\ttemp = a[0]\n",
    "\n",
    "\t# for loop to traverse the list\n",
    "\tfor i in a:\n",
    "\t\tif(len(i) > max1):\n",
    "\n",
    "\t\t\tmax1 = len(i)\n",
    "\t\t\ttemp = i\n",
    "\n",
    "\tprint(\"The word with the longest length is:\", temp,\n",
    "\t\t\" and length is \", max1)\n",
    "\n",
    "\n",
    "# Driver Program\n",
    "a = [\"one\", \"two\", \"third\", \"four\"]\n",
    "longestLength(a)\n"
   ]
  },
  {
   "cell_type": "code",
   "execution_count": 11,
   "id": "938a9650",
   "metadata": {},
   "outputs": [
    {
     "name": "stdout",
     "output_type": "stream",
     "text": [
      "Original: hello, Result: hello\n",
      "Original: world, Result: world\n",
      "Original: amazing, Result: amazing\n",
      "Original: pyth, Result: htyp\n",
      "Original: reverseme, Result: reverseme\n",
      "Original: appl, Result: lppa\n"
     ]
    }
   ],
   "source": [
    "#  Write a Python function to reverses a string if its length is a multiple of4.\n",
    "\n",
    "def reverse_string_if_multiple_of_4(input_string):\n",
    "    if len(input_string) % 4 == 0:\n",
    "        return input_string[::-1]\n",
    "    else:\n",
    "        return input_string\n",
    "\n",
    "# Test cases\n",
    "strings_to_reverse = [\"hello\", \"world\", \"amazing\", \"pyth\", \"reverseme\", \"appl\"]\n",
    "\n",
    "for string in strings_to_reverse:\n",
    "    result = reverse_string_if_multiple_of_4(string)\n",
    "    print(f\"Original: {string}, Result: {result}\")\n"
   ]
  },
  {
   "cell_type": "code",
   "execution_count": 12,
   "id": "efa8eaff",
   "metadata": {},
   "outputs": [
    {
     "name": "stdout",
     "output_type": "stream",
     "text": [
      "Original: hello, Result: helo\n",
      "Original: world, Result: wold\n",
      "Original: Python, Result: Pyon\n",
      "Original: a, Result: \n",
      "Original: ab, Result: abab\n",
      "Original: xyz, Result: xyyz\n"
     ]
    }
   ],
   "source": [
    "# Write a Python program to get a string made of the first 2 and the last2 chars from a given a string. If the string length is less than 2, returninstead of the empty string.\n",
    "\n",
    "def first2_last2_chars(input_string):\n",
    "    if len(input_string) < 2:\n",
    "        return \"\"  # Return an empty string if the length is less than 2\n",
    "    else:\n",
    "        return input_string[:2] + input_string[-2:]\n",
    "\n",
    "# Test cases\n",
    "test_strings = [\"hello\", \"world\", \"Python\", \"a\", \"ab\", \"xyz\"]\n",
    "\n",
    "for string in test_strings:\n",
    "    result = first2_last2_chars(string)\n",
    "    print(f\"Original: {string}, Result: {result}\")\n"
   ]
  },
  {
   "cell_type": "code",
   "execution_count": 3,
   "id": "7ee3d3bc",
   "metadata": {},
   "outputs": [
    {
     "name": "stdout",
     "output_type": "stream",
     "text": [
      "('Hello, world!', ' Python')\n"
     ]
    }
   ],
   "source": [
    "# Write a Python function to insert a string in the middle of a string. \n",
    "\n",
    "original_str = \"Hello, world!\"\n",
    "string_to_insert = \" Python\"\n",
    "result = (original_str, string_to_insert)\n",
    "print(result)"
   ]
  },
  {
   "cell_type": "code",
   "execution_count": null,
   "id": "448397d0",
   "metadata": {},
   "outputs": [],
   "source": []
  }
 ],
 "metadata": {
  "kernelspec": {
   "display_name": "Python 3 (ipykernel)",
   "language": "python",
   "name": "python3"
  },
  "language_info": {
   "codemirror_mode": {
    "name": "ipython",
    "version": 3
   },
   "file_extension": ".py",
   "mimetype": "text/x-python",
   "name": "python",
   "nbconvert_exporter": "python",
   "pygments_lexer": "ipython3",
   "version": "3.10.9"
  }
 },
 "nbformat": 4,
 "nbformat_minor": 5
}
